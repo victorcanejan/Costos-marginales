{
 "cells": [
  {
   "cell_type": "code",
   "execution_count": null,
   "id": "7bdf5cef",
   "metadata": {},
   "outputs": [],
   "source": [
    "# ========================================\n",
    "# Predicción del Costo Marginal en el SEN\n",
    "# ========================================\n",
    "\n",
    "# Importar librerías\n",
    "\n",
    "import pandas as pd\n",
    "import numpy as np\n",
    "import matplotlib.pyplot as plt\n",
    "import seaborn as sns\n",
    "\n",
    "from sklearn.model_selection import train_test_split\n",
    "from sklearn.preprocessing import StandardScaler, LabelEncoder\n",
    "from sklearn.pipeline import Pipeline\n",
    "from sklearn.metrics import classification_report, confusion_matrix\n",
    "from sklearn.ensemble import RandomForestClassifier"
   ]
  },
  {
   "cell_type": "code",
   "execution_count": null,
   "id": "18be7211",
   "metadata": {},
   "outputs": [],
   "source": [
    "# Cargar dataset\n",
    "df = pd.read_csv(\"D:\\\\DOCUMENTOS UNIVERSIDAD\\\\IA\\\\proyecto\\\\cmg_gen_barra.csv\")\n",
    "df.head()"
   ]
  },
  {
   "cell_type": "code",
   "execution_count": null,
   "id": "71187fec",
   "metadata": {},
   "outputs": [],
   "source": [
    "# Exploración inicial\n",
    "\n",
    "print('Dimensiones:', df.shape)\n",
    "print('\\nColumnas:', df.columns.tolist())\n",
    "print('\\nValores nulos:')\n",
    "print(df.isnull().sum())\n",
    "print('\\nResumen estadístico:')\n",
    "df.describe()"
   ]
  },
  {
   "cell_type": "code",
   "execution_count": null,
   "id": "63692127",
   "metadata": {},
   "outputs": [],
   "source": [
    "# Creación de variable objetivo: tipo de generación predominante\n",
    "\n",
    "df['periodo'] = pd.to_datetime(df['periodo'])\n",
    "df['timestamp'] = df['periodo'] + pd.to_timedelta(df['dia'] - 1, unit='d') + \\\n",
    "                  pd.to_timedelta(df['hora'], unit='h') + \\\n",
    "                  pd.to_timedelta(df['minuto'], unit='m')\n",
    "\n",
    "# Agrupamos por barra y timestamp\n",
    "grupo = df.groupby(['nombre_barra', 'timestamp', 'tipo_gen'])['generacion_kwh'].sum().reset_index()\n",
    "\n",
    "# Para cada barra y tiempo, seleccionamos el tipo de generación con mayor cantidad de energía generada\n",
    "predominante = grupo.sort_values(['nombre_barra', 'timestamp', 'generacion_kwh'], ascending=[True, True, False])\n",
    "predominante = predominante.drop_duplicates(subset=['nombre_barra', 'timestamp'], keep='first')\n",
    "\n",
    "# Ahora vamos a unir este resultado con los datos de cmg para entrenar el modelo\n",
    "cmg = df.drop_duplicates(subset=['nombre_barra', 'timestamp'])[['nombre_barra', 'timestamp', 'cmg_peso_kwh', 'hora', 'minuto']]\n",
    "final_df = pd.merge(predominante, cmg, on=['nombre_barra', 'timestamp'])"
   ]
  },
  {
   "cell_type": "code",
   "execution_count": null,
   "id": "d2dac5d5",
   "metadata": {},
   "outputs": [],
   "source": [
    "# Preprocesamiento\n",
    "\n",
    "# Codificar la variable objetivo\n",
    "le = LabelEncoder()\n",
    "final_df['tipo_gen_cod'] = le.fit_transform(final_df['tipo_gen'])\n",
    "\n",
    "# Seleccionamos las variables predictoras\n",
    "X = final_df[['cmg_peso_kwh', 'hora', 'minuto']]\n",
    "y = final_df['tipo_gen_cod']"
   ]
  },
  {
   "cell_type": "code",
   "execution_count": null,
   "id": "da76480e",
   "metadata": {},
   "outputs": [],
   "source": [
    "# Separación de datos\n",
    "\n",
    "X_train, X_test, y_train, y_test = train_test_split(X, y, test_size=0.2, stratify=y, random_state=42)\n",
    "\n",
    "# Usamos RandomForest para empezar\n",
    "pipeline = Pipeline([\n",
    "    ('scaler', StandardScaler()),\n",
    "    ('clf', RandomForestClassifier(random_state=42))\n",
    "])\n",
    "\n",
    "pipeline.fit(X_train, y_train)\n",
    "y_pred = pipeline.predict(X_test)"
   ]
  },
  {
   "cell_type": "code",
   "execution_count": null,
   "id": "def69990",
   "metadata": {},
   "outputs": [],
   "source": [
    "# Evaluación\n",
    "\n",
    "print(\"Classification Report:\")\n",
    "print(classification_report(y_test, y_pred, target_names=le.classes_))\n",
    "\n",
    "print(\"Matriz de Confusión:\")\n",
    "sns.heatmap(confusion_matrix(y_test, y_pred), annot=True, fmt='d', xticklabels=le.classes_, yticklabels=le.classes_)\n",
    "plt.xlabel(\"Predicho\")\n",
    "plt.ylabel(\"Real\")\n",
    "plt.title(\"Matriz de confusión\")\n",
    "plt.show()"
   ]
  },
  {
   "cell_type": "code",
   "execution_count": null,
   "id": "8d332261",
   "metadata": {},
   "outputs": [],
   "source": [
    "# Visualización de resultados\n",
    "\n",
    "# Costo marginal real vs predicho\n",
    "plt.figure(figsize=(12,5))\n",
    "plt.plot(y_test.values[:200], label=\"Real\")\n",
    "plt.plot(y_pred[:200], label=\"Predicción\", alpha=0.7)\n",
    "plt.title(\"Comparación: Costo Marginal Real vs Predicho\")\n",
    "plt.xlabel(\"Intervalo de tiempo\")\n",
    "plt.ylabel(\"CMG ($/kWh)\")\n",
    "plt.legend()\n",
    "plt.tight_layout()\n",
    "plt.show()\n",
    "\n",
    "# Errores absolutos\n",
    "plt.figure(figsize=(10,4))\n",
    "plt.hist(abs(y_test - y_pred), bins=50, edgecolor='black')\n",
    "plt.title(\"Distribución del Error Absoluto\")\n",
    "plt.xlabel(\"Error ($/kWh)\")\n",
    "plt.ylabel(\"Frecuencia\")\n",
    "plt.tight_layout()\n",
    "plt.show()"
   ]
  }
 ],
 "metadata": {
  "kernelspec": {
   "display_name": "Python 3",
   "language": "python",
   "name": "python3"
  },
  "language_info": {
   "codemirror_mode": {
    "name": "ipython",
    "version": 3
   },
   "file_extension": ".py",
   "mimetype": "text/x-python",
   "name": "python",
   "nbconvert_exporter": "python",
   "pygments_lexer": "ipython3",
   "version": "3.9.13"
  }
 },
 "nbformat": 4,
 "nbformat_minor": 5
}
